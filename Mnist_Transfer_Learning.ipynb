{
  "nbformat": 4,
  "nbformat_minor": 0,
  "metadata": {
    "colab": {
      "name": "Mnist_Transfer_Learning.ipynb",
      "provenance": [],
      "collapsed_sections": [],
      "include_colab_link": true
    },
    "kernelspec": {
      "name": "python3",
      "display_name": "Python 3"
    },
    "language_info": {
      "name": "python"
    },
    "accelerator": "GPU"
  },
  "cells": [
    {
      "cell_type": "markdown",
      "metadata": {
        "id": "view-in-github",
        "colab_type": "text"
      },
      "source": [
        "<a href=\"https://colab.research.google.com/github/Aishwarya-M-Shetty/TensorFlow/blob/main/Mnist_Transfer_Learning.ipynb\" target=\"_parent\"><img src=\"https://colab.research.google.com/assets/colab-badge.svg\" alt=\"Open In Colab\"/></a>"
      ]
    },
    {
      "cell_type": "code",
      "source": [
        "import os\n",
        "import tensorflow as tf\n",
        "import numpy as np\n",
        "import matplotlib.pyplot as plt\n",
        "import seaborn as sns\n",
        "plt.style.use(\"fivethirtyeight\")\n",
        "%load_ext tensorboard"
      ],
      "metadata": {
        "id": "mHH8jVmxOyL3"
      },
      "execution_count": null,
      "outputs": []
    },
    {
      "cell_type": "code",
      "source": [
        "(X_train_full, y_train_full), (X_test, y_test) = tf.keras.datasets.mnist.load_data()\n",
        "X_train_full = X_train_full / 255.0\n",
        "X_test = X_test / 255.0\n",
        "X_valid, X_train = X_train_full[:5000], X_train_full[5000:]\n",
        "y_valid, y_train = y_train_full[:5000], y_train_full[5000:]"
      ],
      "metadata": {
        "colab": {
          "base_uri": "https://localhost:8080/"
        },
        "id": "U-mz4dwhO0cQ",
        "outputId": "161c1242-e974-48b1-d566-a67fc78f8772"
      },
      "execution_count": null,
      "outputs": [
        {
          "output_type": "stream",
          "name": "stdout",
          "text": [
            "Downloading data from https://storage.googleapis.com/tensorflow/tf-keras-datasets/mnist.npz\n",
            "11493376/11490434 [==============================] - 0s 0us/step\n",
            "11501568/11490434 [==============================] - 0s 0us/step\n"
          ]
        }
      ]
    },
    {
      "cell_type": "code",
      "metadata": {
        "id": "M1_QZmzsMVzh"
      },
      "source": [
        "tf.random.set_seed(42)\n",
        "np.random.seed(42)\n",
        "\n",
        "LAYERS = [ tf.keras.layers.Flatten(input_shape=[28, 28]),\n",
        "    tf.keras.layers.Dense(300, kernel_initializer=\"he_normal\"),\n",
        "    tf.keras.layers.LeakyReLU(),\n",
        "    tf.keras.layers.Dense(100, kernel_initializer=\"he_normal\"),\n",
        "    tf.keras.layers.LeakyReLU(),\n",
        "    tf.keras.layers.Dense(10, activation=\"softmax\")]\n",
        "\n",
        "\n",
        "model = tf.keras.models.Sequential(LAYERS)"
      ],
      "execution_count": null,
      "outputs": []
    },
    {
      "cell_type": "code",
      "metadata": {
        "id": "52m7m4t7MmgW"
      },
      "source": [
        "model.compile(loss=\"sparse_categorical_crossentropy\",\n",
        "              optimizer=tf.keras.optimizers.SGD(learning_rate=1e-3),\n",
        "              metrics=[\"accuracy\"])"
      ],
      "execution_count": null,
      "outputs": []
    },
    {
      "cell_type": "code",
      "metadata": {
        "colab": {
          "base_uri": "https://localhost:8080/"
        },
        "id": "eUNuDFB0MpvB",
        "outputId": "e0acdcb5-cbe3-41c5-f0d9-3b9c99ad595d"
      },
      "source": [
        "model.summary()"
      ],
      "execution_count": null,
      "outputs": [
        {
          "output_type": "stream",
          "name": "stdout",
          "text": [
            "Model: \"sequential\"\n",
            "_________________________________________________________________\n",
            " Layer (type)                Output Shape              Param #   \n",
            "=================================================================\n",
            " flatten (Flatten)           (None, 784)               0         \n",
            "                                                                 \n",
            " dense (Dense)               (None, 300)               235500    \n",
            "                                                                 \n",
            " leaky_re_lu (LeakyReLU)     (None, 300)               0         \n",
            "                                                                 \n",
            " dense_1 (Dense)             (None, 100)               30100     \n",
            "                                                                 \n",
            " leaky_re_lu_1 (LeakyReLU)   (None, 100)               0         \n",
            "                                                                 \n",
            " dense_2 (Dense)             (None, 10)                1010      \n",
            "                                                                 \n",
            "=================================================================\n",
            "Total params: 266,610\n",
            "Trainable params: 266,610\n",
            "Non-trainable params: 0\n",
            "_________________________________________________________________\n"
          ]
        }
      ]
    },
    {
      "cell_type": "code",
      "metadata": {
        "colab": {
          "base_uri": "https://localhost:8080/"
        },
        "id": "oIqzAVXgMv56",
        "outputId": "652c09bc-854b-4b0e-ae03-72ecffbb4bf0"
      },
      "source": [
        "history = model.fit(X_train, y_train, epochs=10,\n",
        "                    validation_data=(X_valid, y_valid), verbose=2)"
      ],
      "execution_count": null,
      "outputs": [
        {
          "output_type": "stream",
          "name": "stdout",
          "text": [
            "Epoch 1/10\n",
            "1719/1719 - 7s - loss: 1.5275 - accuracy: 0.5970 - val_loss: 0.9444 - val_accuracy: 0.7980 - 7s/epoch - 4ms/step\n",
            "Epoch 2/10\n",
            "1719/1719 - 5s - loss: 0.7465 - accuracy: 0.8287 - val_loss: 0.5868 - val_accuracy: 0.8596 - 5s/epoch - 3ms/step\n",
            "Epoch 3/10\n",
            "1719/1719 - 6s - loss: 0.5412 - accuracy: 0.8624 - val_loss: 0.4685 - val_accuracy: 0.8834 - 6s/epoch - 4ms/step\n",
            "Epoch 4/10\n",
            "1719/1719 - 5s - loss: 0.4591 - accuracy: 0.8771 - val_loss: 0.4104 - val_accuracy: 0.8940 - 5s/epoch - 3ms/step\n",
            "Epoch 5/10\n",
            "1719/1719 - 5s - loss: 0.4142 - accuracy: 0.8869 - val_loss: 0.3758 - val_accuracy: 0.9006 - 5s/epoch - 3ms/step\n",
            "Epoch 6/10\n",
            "1719/1719 - 5s - loss: 0.3852 - accuracy: 0.8938 - val_loss: 0.3525 - val_accuracy: 0.9052 - 5s/epoch - 3ms/step\n",
            "Epoch 7/10\n",
            "1719/1719 - 5s - loss: 0.3644 - accuracy: 0.8979 - val_loss: 0.3348 - val_accuracy: 0.9102 - 5s/epoch - 3ms/step\n",
            "Epoch 8/10\n",
            "1719/1719 - 5s - loss: 0.3485 - accuracy: 0.9021 - val_loss: 0.3209 - val_accuracy: 0.9138 - 5s/epoch - 3ms/step\n",
            "Epoch 9/10\n",
            "1719/1719 - 5s - loss: 0.3356 - accuracy: 0.9053 - val_loss: 0.3111 - val_accuracy: 0.9152 - 5s/epoch - 3ms/step\n",
            "Epoch 10/10\n",
            "1719/1719 - 5s - loss: 0.3251 - accuracy: 0.9078 - val_loss: 0.3016 - val_accuracy: 0.9170 - 5s/epoch - 3ms/step\n"
          ]
        }
      ]
    },
    {
      "cell_type": "code",
      "metadata": {
        "id": "7kP_8N5tM4yk"
      },
      "source": [
        "model.save(\"pretrained_mnist_model.h5\")"
      ],
      "execution_count": null,
      "outputs": []
    },
    {
      "cell_type": "code",
      "source": [
        "#Classify handwritten digits into odd and even\n",
        "pretrained_mnist_model = tf.keras.models.load_model(\"pretrained_mnist_model.h5\")"
      ],
      "metadata": {
        "id": "grty3zQ_O9cL"
      },
      "execution_count": null,
      "outputs": []
    },
    {
      "cell_type": "code",
      "source": [
        "pretrained_mnist_model.summary()"
      ],
      "metadata": {
        "colab": {
          "base_uri": "https://localhost:8080/"
        },
        "id": "6J67lmBiPrkA",
        "outputId": "31fc5b49-94c3-44c1-dd12-7800b2429796"
      },
      "execution_count": null,
      "outputs": [
        {
          "output_type": "stream",
          "name": "stdout",
          "text": [
            "Model: \"sequential\"\n",
            "_________________________________________________________________\n",
            " Layer (type)                Output Shape              Param #   \n",
            "=================================================================\n",
            " flatten (Flatten)           (None, 784)               0         \n",
            "                                                                 \n",
            " dense (Dense)               (None, 300)               235500    \n",
            "                                                                 \n",
            " leaky_re_lu (LeakyReLU)     (None, 300)               0         \n",
            "                                                                 \n",
            " dense_1 (Dense)             (None, 100)               30100     \n",
            "                                                                 \n",
            " leaky_re_lu_1 (LeakyReLU)   (None, 100)               0         \n",
            "                                                                 \n",
            " dense_2 (Dense)             (None, 10)                1010      \n",
            "                                                                 \n",
            "=================================================================\n",
            "Total params: 266,610\n",
            "Trainable params: 266,610\n",
            "Non-trainable params: 0\n",
            "_________________________________________________________________\n"
          ]
        }
      ]
    },
    {
      "cell_type": "code",
      "source": [
        "for layer in pretrained_mnist_model.layers:\n",
        "  print(f\"{layer.name}: {layer.trainable}\")"
      ],
      "metadata": {
        "colab": {
          "base_uri": "https://localhost:8080/"
        },
        "id": "hK2Y1uYkP-5w",
        "outputId": "285cbbdc-6be3-4960-8247-551084876270"
      },
      "execution_count": null,
      "outputs": [
        {
          "output_type": "stream",
          "name": "stdout",
          "text": [
            "flatten: True\n",
            "dense: True\n",
            "leaky_re_lu: True\n",
            "dense_1: True\n",
            "leaky_re_lu_1: True\n",
            "dense_2: True\n"
          ]
        }
      ]
    },
    {
      "cell_type": "code",
      "source": [
        "for layer in pretrained_mnist_model.layers[:-1]: # leaves the last layer unfreezed => trainable\n",
        "  layer.trainable = False # freezing the layers from getting trained\n",
        "  print(f\"{layer.name}: {layer.trainable}\")"
      ],
      "metadata": {
        "colab": {
          "base_uri": "https://localhost:8080/"
        },
        "id": "2VsQ3p7VQIiK",
        "outputId": "08c37f13-ce1e-482f-f8e9-5691778f51bb"
      },
      "execution_count": null,
      "outputs": [
        {
          "output_type": "stream",
          "name": "stdout",
          "text": [
            "flatten: False\n",
            "dense: False\n",
            "leaky_re_lu: False\n",
            "dense_1: False\n",
            "leaky_re_lu_1: False\n"
          ]
        }
      ]
    },
    {
      "cell_type": "code",
      "source": [
        "for layer in pretrained_mnist_model.layers:\n",
        "  print(f\"{layer.name}: {layer.trainable}\")"
      ],
      "metadata": {
        "colab": {
          "base_uri": "https://localhost:8080/"
        },
        "id": "vDPIv2AqQe47",
        "outputId": "386a3c3b-14d2-4537-aae5-bea9a75384c9"
      },
      "execution_count": null,
      "outputs": [
        {
          "output_type": "stream",
          "name": "stdout",
          "text": [
            "flatten: False\n",
            "dense: False\n",
            "leaky_re_lu: False\n",
            "dense_1: False\n",
            "leaky_re_lu_1: False\n",
            "dense_2: True\n"
          ]
        }
      ]
    },
    {
      "cell_type": "code",
      "source": [
        "try:\n",
        "  del new_model\n",
        "except:\n",
        "  pass"
      ],
      "metadata": {
        "id": "vYtsGfZjRTdH"
      },
      "execution_count": null,
      "outputs": []
    },
    {
      "cell_type": "code",
      "source": [
        "lower_pretrained_layers = pretrained_mnist_model.layers[:-1]\n",
        "\n",
        "# LAYERS = [\n",
        "#           lower_pretrained_layers,\n",
        "#           tf.keras.layers.Dense(2, activation=\"softmax\")\n",
        "# ]\n",
        "\n",
        "new_model = tf.keras.models.Sequential(lower_pretrained_layers)\n",
        "\n",
        "new_model.add(\n",
        "    tf.keras.layers.Dense(2, activation=\"softmax\")\n",
        ")"
      ],
      "metadata": {
        "id": "iV6aD2ceQiZ1"
      },
      "execution_count": null,
      "outputs": []
    },
    {
      "cell_type": "code",
      "source": [
        "new_model.summary()"
      ],
      "metadata": {
        "colab": {
          "base_uri": "https://localhost:8080/"
        },
        "id": "_-G4ilz2RFCQ",
        "outputId": "b6fb5fd0-a3a4-4312-fef6-fd7daabdb74d"
      },
      "execution_count": null,
      "outputs": [
        {
          "output_type": "stream",
          "name": "stdout",
          "text": [
            "Model: \"sequential_2\"\n",
            "_________________________________________________________________\n",
            " Layer (type)                Output Shape              Param #   \n",
            "=================================================================\n",
            " flatten (Flatten)           (None, 784)               0         \n",
            "                                                                 \n",
            " dense (Dense)               (None, 300)               235500    \n",
            "                                                                 \n",
            " leaky_re_lu (LeakyReLU)     (None, 300)               0         \n",
            "                                                                 \n",
            " dense_1 (Dense)             (None, 100)               30100     \n",
            "                                                                 \n",
            " leaky_re_lu_1 (LeakyReLU)   (None, 100)               0         \n",
            "                                                                 \n",
            " dense_2 (Dense)             (None, 2)                 202       \n",
            "                                                                 \n",
            "=================================================================\n",
            "Total params: 265,802\n",
            "Trainable params: 202\n",
            "Non-trainable params: 265,600\n",
            "_________________________________________________________________\n"
          ]
        }
      ]
    },
    {
      "cell_type": "code",
      "source": [
        "np.where(y_train%2 == 0, 1, 0)"
      ],
      "metadata": {
        "colab": {
          "base_uri": "https://localhost:8080/"
        },
        "id": "n5NHr2a6Sd0S",
        "outputId": "3db541ba-c4a7-4f7a-b5df-a6b330939a5f"
      },
      "execution_count": null,
      "outputs": [
        {
          "output_type": "execute_result",
          "data": {
            "text/plain": [
              "array([0, 0, 1, ..., 0, 1, 1])"
            ]
          },
          "metadata": {},
          "execution_count": 25
        }
      ]
    },
    {
      "cell_type": "code",
      "source": [
        "y_train[0], y_train[-1]"
      ],
      "metadata": {
        "colab": {
          "base_uri": "https://localhost:8080/"
        },
        "id": "fLr-NXKDSoPJ",
        "outputId": "e5f9ce8b-6102-4bcc-989b-84f10da56de1"
      },
      "execution_count": null,
      "outputs": [
        {
          "output_type": "execute_result",
          "data": {
            "text/plain": [
              "(7, 8)"
            ]
          },
          "metadata": {},
          "execution_count": 27
        }
      ]
    },
    {
      "cell_type": "code",
      "source": [
        "def update_even_odd_labels(labels):\n",
        "  for idx, label in enumerate(labels):\n",
        "    labels[idx] = np.where(label % 2 == 0, 1, 0)\n",
        "  return labels"
      ],
      "metadata": {
        "id": "UjhAeT3CSwsd"
      },
      "execution_count": null,
      "outputs": []
    },
    {
      "cell_type": "code",
      "source": [
        "y_train_bin, y_test_bin, y_valid_bin = update_even_odd_labels([y_train, y_test, y_valid])"
      ],
      "metadata": {
        "id": "08NopZ7iS_w1"
      },
      "execution_count": null,
      "outputs": []
    },
    {
      "cell_type": "code",
      "source": [
        "np.unique(y_train_bin)"
      ],
      "metadata": {
        "colab": {
          "base_uri": "https://localhost:8080/"
        },
        "id": "ly3Z4-a8TI7Y",
        "outputId": "498efd78-91c4-48e8-9975-897fcdc58a17"
      },
      "execution_count": null,
      "outputs": [
        {
          "output_type": "execute_result",
          "data": {
            "text/plain": [
              "array([0, 1])"
            ]
          },
          "metadata": {},
          "execution_count": 31
        }
      ]
    },
    {
      "cell_type": "code",
      "source": [
        "new_model.compile(loss=\"sparse_categorical_crossentropy\",\n",
        "              optimizer=tf.keras.optimizers.SGD(lr=1e-3),\n",
        "              metrics=[\"accuracy\"])"
      ],
      "metadata": {
        "colab": {
          "base_uri": "https://localhost:8080/"
        },
        "id": "EiWzdJdXTLGl",
        "outputId": "7c11448b-c590-4c48-cc83-3d1cbb133bc8"
      },
      "execution_count": null,
      "outputs": [
        {
          "output_type": "stream",
          "name": "stderr",
          "text": [
            "/usr/local/lib/python3.7/dist-packages/keras/optimizer_v2/gradient_descent.py:102: UserWarning: The `lr` argument is deprecated, use `learning_rate` instead.\n",
            "  super(SGD, self).__init__(name, **kwargs)\n"
          ]
        }
      ]
    },
    {
      "cell_type": "code",
      "source": [
        "history = new_model.fit(X_train, y_train_bin, epochs=10,\n",
        "                    validation_data=(X_valid, y_valid_bin), verbose=2)"
      ],
      "metadata": {
        "colab": {
          "base_uri": "https://localhost:8080/"
        },
        "id": "96VCbYd0TQR4",
        "outputId": "a95ac943-48af-4cd7-db73-de77ce159b05"
      },
      "execution_count": null,
      "outputs": [
        {
          "output_type": "stream",
          "name": "stdout",
          "text": [
            "Epoch 1/10\n",
            "1719/1719 - 7s - loss: 0.4272 - accuracy: 0.8015 - val_loss: 0.3464 - val_accuracy: 0.8510 - 7s/epoch - 4ms/step\n",
            "Epoch 2/10\n",
            "1719/1719 - 5s - loss: 0.3465 - accuracy: 0.8489 - val_loss: 0.3183 - val_accuracy: 0.8650 - 5s/epoch - 3ms/step\n",
            "Epoch 3/10\n",
            "1719/1719 - 5s - loss: 0.3269 - accuracy: 0.8591 - val_loss: 0.3027 - val_accuracy: 0.8706 - 5s/epoch - 3ms/step\n",
            "Epoch 4/10\n",
            "1719/1719 - 5s - loss: 0.3151 - accuracy: 0.8651 - val_loss: 0.2927 - val_accuracy: 0.8776 - 5s/epoch - 3ms/step\n",
            "Epoch 5/10\n",
            "1719/1719 - 5s - loss: 0.3065 - accuracy: 0.8697 - val_loss: 0.2860 - val_accuracy: 0.8836 - 5s/epoch - 3ms/step\n",
            "Epoch 6/10\n",
            "1719/1719 - 5s - loss: 0.3000 - accuracy: 0.8726 - val_loss: 0.2791 - val_accuracy: 0.8846 - 5s/epoch - 3ms/step\n",
            "Epoch 7/10\n",
            "1719/1719 - 5s - loss: 0.2946 - accuracy: 0.8758 - val_loss: 0.2750 - val_accuracy: 0.8878 - 5s/epoch - 3ms/step\n",
            "Epoch 8/10\n",
            "1719/1719 - 4s - loss: 0.2902 - accuracy: 0.8782 - val_loss: 0.2701 - val_accuracy: 0.8888 - 4s/epoch - 3ms/step\n",
            "Epoch 9/10\n",
            "1719/1719 - 5s - loss: 0.2864 - accuracy: 0.8805 - val_loss: 0.2677 - val_accuracy: 0.8906 - 5s/epoch - 3ms/step\n",
            "Epoch 10/10\n",
            "1719/1719 - 5s - loss: 0.2832 - accuracy: 0.8820 - val_loss: 0.2637 - val_accuracy: 0.8930 - 5s/epoch - 3ms/step\n"
          ]
        }
      ]
    },
    {
      "cell_type": "code",
      "source": [
        "new_model.evaluate(X_test, y_test_bin)"
      ],
      "metadata": {
        "colab": {
          "base_uri": "https://localhost:8080/"
        },
        "id": "N9uEwT8BTR8g",
        "outputId": "0b998f8a-c05a-4a6f-be22-0c6f45fe48a7"
      },
      "execution_count": null,
      "outputs": [
        {
          "output_type": "stream",
          "name": "stdout",
          "text": [
            "313/313 [==============================] - 1s 3ms/step - loss: 0.2797 - accuracy: 0.8847\n"
          ]
        },
        {
          "output_type": "execute_result",
          "data": {
            "text/plain": [
              "[0.2797388732433319, 0.8847000002861023]"
            ]
          },
          "metadata": {},
          "execution_count": 34
        }
      ]
    },
    {
      "cell_type": "code",
      "source": [
        "X_new = X_test[:3]\n",
        "y_test[:3], y_test_bin[:3]"
      ],
      "metadata": {
        "colab": {
          "base_uri": "https://localhost:8080/"
        },
        "id": "Xn0ToAZMTV8a",
        "outputId": "09a672d2-0992-4dac-ac5a-abb754c83239"
      },
      "execution_count": null,
      "outputs": [
        {
          "output_type": "execute_result",
          "data": {
            "text/plain": [
              "(array([7, 2, 1], dtype=uint8), array([0, 1, 0]))"
            ]
          },
          "metadata": {},
          "execution_count": 35
        }
      ]
    },
    {
      "cell_type": "code",
      "source": [
        "np.argmax(new_model.predict(X_new), axis=-1)"
      ],
      "metadata": {
        "colab": {
          "base_uri": "https://localhost:8080/"
        },
        "id": "NgyxdbJ-TYAy",
        "outputId": "060444e3-cd47-4200-ed56-8844ae633b30"
      },
      "execution_count": null,
      "outputs": [
        {
          "output_type": "execute_result",
          "data": {
            "text/plain": [
              "array([0, 1, 0])"
            ]
          },
          "metadata": {},
          "execution_count": 36
        }
      ]
    },
    {
      "cell_type": "code",
      "source": [
        ""
      ],
      "metadata": {
        "id": "FsTii7HnTaav"
      },
      "execution_count": null,
      "outputs": []
    }
  ]
}